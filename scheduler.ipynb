{
 "cells": [
  {
   "cell_type": "code",
   "execution_count": 1,
   "metadata": {},
   "outputs": [
    {
     "name": "stderr",
     "output_type": "stream",
     "text": [
      "/opt/conda/lib/python3.11/site-packages/torchvision/io/image.py:13: UserWarning: Failed to load image Python extension: '/opt/conda/lib/python3.11/site-packages/torchvision/image.so: undefined symbol: _ZN5torch3jit17parseSchemaOrNameERKSs'If you don't plan on using image functionality from `torchvision.io`, you can ignore this warning. Otherwise, there might be something wrong with your environment. Did you have `libjpeg` or `libpng` installed before building `torchvision` from source?\n",
      "  warn(\n"
     ]
    }
   ],
   "source": [
    "import schedule\n",
    "import time\n",
    "from datetime import datetime, timedelta\n",
    "\n",
    "# Define the function that runs your trading code\n",
    "def execute_trading_code():\n",
    "    # Here you would include the code you want to run\n",
    "    # For example:\n",
    "    print(f\"Executing trading code at {datetime.now()}\")\n",
    "\n",
    "# Function to calculate 5 minutes before a given time\n",
    "def get_time_5_minutes_before(hour, minute):\n",
    "    return (datetime.now().replace(hour=hour, minute=minute, second=0, microsecond=0) - timedelta(minutes=5)).time()\n",
    "\n",
    "# Schedule the tasks 5 minutes before each key time\n",
    "schedule.every().day.at(str(get_time_5_minutes_before(10, 30))).do(execute_trading_code)  # 10:25 AM ET\n",
    "\n",
    "# Keep the script running to execute the tasks\n",
    "while True:\n",
    "    schedule.run_pending()\n",
    "    time.sleep(1)"
   ]
  }
 ],
 "metadata": {
  "kernelspec": {
   "display_name": "base",
   "language": "python",
   "name": "python3"
  },
  "language_info": {
   "codemirror_mode": {
    "name": "ipython",
    "version": 3
   },
   "file_extension": ".py",
   "mimetype": "text/x-python",
   "name": "python",
   "nbconvert_exporter": "python",
   "pygments_lexer": "ipython3",
   "version": "3.11.7"
  }
 },
 "nbformat": 4,
 "nbformat_minor": 2
}
